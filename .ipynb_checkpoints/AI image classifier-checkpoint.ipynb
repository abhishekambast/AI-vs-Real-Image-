{
 "cells": [
  {
   "cell_type": "code",
   "execution_count": 1,
   "id": "ea210b0e",
   "metadata": {},
   "outputs": [],
   "source": [
    "from tensorflow.keras.layers import Conv2D, ZeroPadding2D, Activation, Input, concatenate\n",
    "from tensorflow.keras.models import Model\n",
    "from tensorflow.keras.layers import BatchNormalization\n",
    "from tensorflow.keras.layers import MaxPooling2D, AveragePooling2D,GlobalAveragePooling2D\n",
    "\n",
    "from tensorflow.keras.layers import Lambda, Flatten, Dense\n",
    "\n",
    "from tensorflow.keras.layers import Layer\n",
    "from tensorflow.keras import backend as K\n",
    "K.set_image_data_format('channels_last')\n",
    "\n",
    "import os\n",
    "import numpy as np\n",
    "from numpy import genfromtxt\n",
    "import pandas as pd\n",
    "import tensorflow as tf\n",
    "import PIL\n",
    "\n",
    "\n",
    "import tensorflow.keras\n",
    "from keras_vggface.vggface import VGGFace\n",
    "\n",
    "from keras_vggface import utils\n",
    "import deepface\n",
    "from deepface import DeepFace\n",
    "import cv2\n",
    "\n",
    "%matplotlib inline"
   ]
  },
  {
   "cell_type": "code",
   "execution_count": 2,
   "id": "e5532569",
   "metadata": {},
   "outputs": [],
   "source": [
    "\n",
    "from tensorflow.keras.layers import Conv2D, ZeroPadding2D, Activation, Input, concatenate\n",
    "from tensorflow.keras.models import Model\n",
    "from tensorflow.keras.layers import BatchNormalization\n",
    "from tensorflow.keras.layers import MaxPooling2D, AveragePooling2D,GlobalAveragePooling2D\n",
    "\n",
    "from tensorflow.keras.layers import Lambda, Flatten, Dense\n",
    "\n",
    "from tensorflow.keras.layers import Layer\n",
    "from keras.optimizers import Adam\n",
    "\n",
    "\n",
    "import os\n",
    "import numpy as np\n",
    "from numpy import genfromtxt\n",
    "import pandas as pd\n",
    "import tensorflow as tf\n",
    "import PIL\n",
    "\n",
    "import tensorflow.keras\n",
    "from keras_vggface.vggface import VGGFace\n",
    "\n",
    "from keras_vggface import utils\n",
    "import deepface\n",
    "from deepface import DeepFace\n",
    "import cv2\n",
    "\n",
    "from tensorflow.keras.models import load_model\n",
    "from PIL import Image\n",
    "import matplotlib.pyplot as plt\n",
    "\n",
    "%matplotlib inline\n"
   ]
  },
  {
   "cell_type": "code",
   "execution_count": null,
   "id": "df5bf0be",
   "metadata": {},
   "outputs": [],
   "source": []
  },
  {
   "cell_type": "code",
   "execution_count": 118,
   "id": "2feee369",
   "metadata": {},
   "outputs": [],
   "source": [
    "from sklearn.metrics import confusion_matrix,ConfusionMatrixDisplay"
   ]
  },
  {
   "cell_type": "code",
   "execution_count": 3,
   "id": "610b32c6",
   "metadata": {},
   "outputs": [],
   "source": [
    "from keras.applications import VGG19"
   ]
  },
  {
   "cell_type": "code",
   "execution_count": 4,
   "id": "a8ad678c",
   "metadata": {},
   "outputs": [],
   "source": [
    "from keras.applications.vgg19 import preprocess_input"
   ]
  },
  {
   "cell_type": "code",
   "execution_count": 5,
   "id": "769c4cb8",
   "metadata": {},
   "outputs": [],
   "source": [
    "vgg= VGG19(weights='imagenet',include_top=False,input_shape=[126,126,3])"
   ]
  },
  {
   "cell_type": "code",
   "execution_count": 6,
   "id": "ebeb9397",
   "metadata": {},
   "outputs": [],
   "source": [
    "\n",
    "import random\n",
    "import shutil"
   ]
  },
  {
   "cell_type": "code",
   "execution_count": 7,
   "id": "98ab54b8",
   "metadata": {},
   "outputs": [
    {
     "name": "stdout",
     "output_type": "stream",
     "text": [
      "Model: \"vgg19\"\n",
      "_________________________________________________________________\n",
      " Layer (type)                Output Shape              Param #   \n",
      "=================================================================\n",
      " input_1 (InputLayer)        [(None, 126, 126, 3)]     0         \n",
      "                                                                 \n",
      " block1_conv1 (Conv2D)       (None, 126, 126, 64)      1792      \n",
      "                                                                 \n",
      " block1_conv2 (Conv2D)       (None, 126, 126, 64)      36928     \n",
      "                                                                 \n",
      " block1_pool (MaxPooling2D)  (None, 63, 63, 64)        0         \n",
      "                                                                 \n",
      " block2_conv1 (Conv2D)       (None, 63, 63, 128)       73856     \n",
      "                                                                 \n",
      " block2_conv2 (Conv2D)       (None, 63, 63, 128)       147584    \n",
      "                                                                 \n",
      " block2_pool (MaxPooling2D)  (None, 31, 31, 128)       0         \n",
      "                                                                 \n",
      " block3_conv1 (Conv2D)       (None, 31, 31, 256)       295168    \n",
      "                                                                 \n",
      " block3_conv2 (Conv2D)       (None, 31, 31, 256)       590080    \n",
      "                                                                 \n",
      " block3_conv3 (Conv2D)       (None, 31, 31, 256)       590080    \n",
      "                                                                 \n",
      " block3_conv4 (Conv2D)       (None, 31, 31, 256)       590080    \n",
      "                                                                 \n",
      " block3_pool (MaxPooling2D)  (None, 15, 15, 256)       0         \n",
      "                                                                 \n",
      " block4_conv1 (Conv2D)       (None, 15, 15, 512)       1180160   \n",
      "                                                                 \n",
      " block4_conv2 (Conv2D)       (None, 15, 15, 512)       2359808   \n",
      "                                                                 \n",
      " block4_conv3 (Conv2D)       (None, 15, 15, 512)       2359808   \n",
      "                                                                 \n",
      " block4_conv4 (Conv2D)       (None, 15, 15, 512)       2359808   \n",
      "                                                                 \n",
      " block4_pool (MaxPooling2D)  (None, 7, 7, 512)         0         \n",
      "                                                                 \n",
      " block5_conv1 (Conv2D)       (None, 7, 7, 512)         2359808   \n",
      "                                                                 \n",
      " block5_conv2 (Conv2D)       (None, 7, 7, 512)         2359808   \n",
      "                                                                 \n",
      " block5_conv3 (Conv2D)       (None, 7, 7, 512)         2359808   \n",
      "                                                                 \n",
      " block5_conv4 (Conv2D)       (None, 7, 7, 512)         2359808   \n",
      "                                                                 \n",
      " block5_pool (MaxPooling2D)  (None, 3, 3, 512)         0         \n",
      "                                                                 \n",
      "=================================================================\n",
      "Total params: 20,024,384\n",
      "Trainable params: 20,024,384\n",
      "Non-trainable params: 0\n",
      "_________________________________________________________________\n"
     ]
    }
   ],
   "source": [
    "vgg.summary()"
   ]
  },
  {
   "cell_type": "code",
   "execution_count": 61,
   "id": "b50b4509",
   "metadata": {},
   "outputs": [],
   "source": [
    "def model():\n",
    "    x=vgg.output\n",
    "    #x=Conv2D(filters=32,kernel_size=2,strides=1,padding='valid')(x)\n",
    "    #x=MaxPooling2D(pool_size=2,strides=1)(x)\n",
    "    x=Flatten()(x)\n",
    "    x=tf.keras.layers.Dropout(0.3)(x)\n",
    "    x=Dense(2,activation='sigmoid')(x)\n",
    "    \n",
    "    model=Model(inputs=vgg.input,outputs=x)\n",
    "    return model\n",
    "    \n",
    "    "
   ]
  },
  {
   "cell_type": "code",
   "execution_count": 62,
   "id": "fb1a9ee3",
   "metadata": {},
   "outputs": [],
   "source": [
    "newmodel=model()"
   ]
  },
  {
   "cell_type": "code",
   "execution_count": 63,
   "id": "4c028abd",
   "metadata": {},
   "outputs": [],
   "source": [
    "for layer in newmodel.layers[:-3]:\n",
    "    layer.trainable = False\n",
    "\n",
    "#train the rest of the layers - 19 onwards\n",
    "for layer in newmodel.layers[-3:]:\n",
    "    layer.trainable = True"
   ]
  },
  {
   "cell_type": "code",
   "execution_count": 64,
   "id": "427e8281",
   "metadata": {},
   "outputs": [
    {
     "name": "stdout",
     "output_type": "stream",
     "text": [
      "Model: \"model_5\"\n",
      "_________________________________________________________________\n",
      " Layer (type)                Output Shape              Param #   \n",
      "=================================================================\n",
      " input_1 (InputLayer)        [(None, 126, 126, 3)]     0         \n",
      "                                                                 \n",
      " block1_conv1 (Conv2D)       (None, 126, 126, 64)      1792      \n",
      "                                                                 \n",
      " block1_conv2 (Conv2D)       (None, 126, 126, 64)      36928     \n",
      "                                                                 \n",
      " block1_pool (MaxPooling2D)  (None, 63, 63, 64)        0         \n",
      "                                                                 \n",
      " block2_conv1 (Conv2D)       (None, 63, 63, 128)       73856     \n",
      "                                                                 \n",
      " block2_conv2 (Conv2D)       (None, 63, 63, 128)       147584    \n",
      "                                                                 \n",
      " block2_pool (MaxPooling2D)  (None, 31, 31, 128)       0         \n",
      "                                                                 \n",
      " block3_conv1 (Conv2D)       (None, 31, 31, 256)       295168    \n",
      "                                                                 \n",
      " block3_conv2 (Conv2D)       (None, 31, 31, 256)       590080    \n",
      "                                                                 \n",
      " block3_conv3 (Conv2D)       (None, 31, 31, 256)       590080    \n",
      "                                                                 \n",
      " block3_conv4 (Conv2D)       (None, 31, 31, 256)       590080    \n",
      "                                                                 \n",
      " block3_pool (MaxPooling2D)  (None, 15, 15, 256)       0         \n",
      "                                                                 \n",
      " block4_conv1 (Conv2D)       (None, 15, 15, 512)       1180160   \n",
      "                                                                 \n",
      " block4_conv2 (Conv2D)       (None, 15, 15, 512)       2359808   \n",
      "                                                                 \n",
      " block4_conv3 (Conv2D)       (None, 15, 15, 512)       2359808   \n",
      "                                                                 \n",
      " block4_conv4 (Conv2D)       (None, 15, 15, 512)       2359808   \n",
      "                                                                 \n",
      " block4_pool (MaxPooling2D)  (None, 7, 7, 512)         0         \n",
      "                                                                 \n",
      " block5_conv1 (Conv2D)       (None, 7, 7, 512)         2359808   \n",
      "                                                                 \n",
      " block5_conv2 (Conv2D)       (None, 7, 7, 512)         2359808   \n",
      "                                                                 \n",
      " block5_conv3 (Conv2D)       (None, 7, 7, 512)         2359808   \n",
      "                                                                 \n",
      " block5_conv4 (Conv2D)       (None, 7, 7, 512)         2359808   \n",
      "                                                                 \n",
      " block5_pool (MaxPooling2D)  (None, 3, 3, 512)         0         \n",
      "                                                                 \n",
      " flatten_5 (Flatten)         (None, 4608)              0         \n",
      "                                                                 \n",
      " dropout_5 (Dropout)         (None, 4608)              0         \n",
      "                                                                 \n",
      " dense_5 (Dense)             (None, 2)                 9218      \n",
      "                                                                 \n",
      "=================================================================\n",
      "Total params: 20,033,602\n",
      "Trainable params: 9,218\n",
      "Non-trainable params: 20,024,384\n",
      "_________________________________________________________________\n"
     ]
    }
   ],
   "source": [
    "newmodel.summary()"
   ]
  },
  {
   "cell_type": "code",
   "execution_count": 65,
   "id": "19d9d07b",
   "metadata": {},
   "outputs": [],
   "source": [
    "newmodel.compile(optimizer=Adam(),loss='categorical_crossentropy',metrics=['accuracy'])"
   ]
  },
  {
   "cell_type": "code",
   "execution_count": 66,
   "id": "ea2e999b",
   "metadata": {},
   "outputs": [],
   "source": [
    "from keras.preprocessing.image import ImageDataGenerator"
   ]
  },
  {
   "cell_type": "code",
   "execution_count": 67,
   "id": "0ae7ab7b",
   "metadata": {},
   "outputs": [],
   "source": [
    "train_path='archive/train'\n",
    "test_path='archive/test'"
   ]
  },
  {
   "cell_type": "markdown",
   "id": "d7f49197",
   "metadata": {},
   "source": [
    "def get_image_paths(directory):\n",
    "    image_paths=[]\n",
    "    for root, dirs,files in os.walk(directory):\n",
    "        for file in files:\n",
    "            if(file.endwith(\".jpg\",\".jpeg\",\".png\")):\n",
    "                image=os.path.join(root.file)\n",
    "                image_paths.append(image)\n",
    "    return random.shuffle(image_paths)\n",
    "            "
   ]
  },
  {
   "cell_type": "markdown",
   "id": "d5c89614",
   "metadata": {},
   "source": [
    "def img_to_array(image_path):\n",
    "    img = tf.keras.preprocessing.image.load_img(image_path, target_size=(126, 126))\n",
    "    img = np.around(np.array(img) / 255.0, decimals=12)\n",
    "    x_train = np.expand_dims(img, axis=0)\n",
    "    return x_train"
   ]
  },
  {
   "cell_type": "markdown",
   "id": "933607fb",
   "metadata": {},
   "source": [
    "# convert the below markdown into code if u have not already created subset of train/test dataset"
   ]
  },
  {
   "cell_type": "markdown",
   "id": "3ba8c55b",
   "metadata": {},
   "source": [
    "\n",
    "\n",
    "def create_subset_directory(original_dir, subset_dir, num_images):\n",
    "    \n",
    "    if not os.path.exists(subset_dir):\n",
    "        os.makedirs(subset_dir)\n",
    "\n",
    "    \n",
    "    image_files = [f for f in os.listdir(original_dir) if os.path.isfile(os.path.join(original_dir, f))]\n",
    "\n",
    "    \n",
    "    selected_images = random.sample(image_files, num_images)\n",
    "\n",
    "    \n",
    "    for image_file in selected_images:\n",
    "        src_path = os.path.join(original_dir, image_file)\n",
    "        dst_path = os.path.join(subset_dir, image_file)\n",
    "        shutil.copyfile(src_path, dst_path)\n",
    "\n",
    "\n",
    "original_directory= ['archive/train/REAL','archive/train/FAKE','archive/test/REAL','archive/test/FAKE']\n",
    "\n",
    "subset_directory= ['archive/train_subset/REAL','archive/train_subset/FAKE','archive/test_subset/REAL','archive/test_subset/FAKE']\n",
    "\n",
    "num_images=[7000,3000,3000,1500]\n",
    "subsets=['archive/train_subset','archive/test_subset']\n",
    "\n",
    "\n",
    "for i in range(len(original_directory)):\n",
    "    create_subset_directory(original_directory[i], subset_directory[i], num_images[i])\n"
   ]
  },
  {
   "cell_type": "code",
   "execution_count": 40,
   "id": "55a6eae4",
   "metadata": {},
   "outputs": [],
   "source": [
    "subsets=['archive/train_subset','archive/test_subset']"
   ]
  },
  {
   "cell_type": "code",
   "execution_count": 41,
   "id": "6149ae11",
   "metadata": {},
   "outputs": [],
   "source": [
    "from tensorflow.keras.preprocessing.image import ImageDataGenerator"
   ]
  },
  {
   "cell_type": "code",
   "execution_count": 42,
   "id": "71194742",
   "metadata": {},
   "outputs": [],
   "source": [
    "train_generator=ImageDataGenerator(preprocessing_function = preprocess_input,\n",
    "                                  rescale=1./255, \n",
    "                                  rotation_range=20,\n",
    "                                  width_shift_range=0.2,\n",
    "                                  height_shift_range=0.2, \n",
    "                                  shear_range=0.2, \n",
    "                                  zoom_range=0.2,  \n",
    "                                  horizontal_flip=True,  \n",
    "                                  fill_mode='nearest' \n",
    "                                )\n",
    "test_generator=ImageDataGenerator(preprocessing_function = preprocess_input,\n",
    "                                  rescale=1./255, \n",
    "                                  rotation_range=20,\n",
    "                                  width_shift_range=0.2,\n",
    "                                  height_shift_range=0.2, \n",
    "                                  shear_range=0.2, \n",
    "                                  zoom_range=0.2,  \n",
    "                                  horizontal_flip=True,  \n",
    "                                  fill_mode='nearest' \n",
    "                                )"
   ]
  },
  {
   "cell_type": "code",
   "execution_count": 43,
   "id": "490999ce",
   "metadata": {},
   "outputs": [
    {
     "name": "stdout",
     "output_type": "stream",
     "text": [
      "Found 10000 images belonging to 2 classes.\n",
      "Found 4500 images belonging to 2 classes.\n"
     ]
    }
   ],
   "source": [
    "train=train_generator.flow_from_directory(subsets[0],target_size=(126,126),batch_size=32)\n",
    "test=test_generator.flow_from_directory(subsets[1],target_size=(126,126),batch_size=32)"
   ]
  },
  {
   "cell_type": "code",
   "execution_count": null,
   "id": "6a0ba354",
   "metadata": {},
   "outputs": [],
   "source": []
  },
  {
   "cell_type": "code",
   "execution_count": 69,
   "id": "3d0f2440",
   "metadata": {},
   "outputs": [],
   "source": [
    "from tensorflow.keras.callbacks import EarlyStopping"
   ]
  },
  {
   "cell_type": "code",
   "execution_count": 70,
   "id": "35aed87f",
   "metadata": {},
   "outputs": [],
   "source": [
    "callback = EarlyStopping(\n",
    "    monitor='val_loss',\n",
    "    patience=3, \n",
    "    mode='min', \n",
    "    verbose=1\n",
    ")\n"
   ]
  },
  {
   "cell_type": "code",
   "execution_count": 72,
   "id": "bdcedb94",
   "metadata": {},
   "outputs": [
    {
     "name": "stdout",
     "output_type": "stream",
     "text": [
      "Epoch 1/10\n",
      "313/313 - 1022s - loss: 0.3720 - accuracy: 0.8379 - val_loss: 0.4106 - val_accuracy: 0.8073 - 1022s/epoch - 3s/step\n",
      "Epoch 2/10\n",
      "313/313 - 1038s - loss: 0.3649 - accuracy: 0.8418 - val_loss: 0.3496 - val_accuracy: 0.8427 - 1038s/epoch - 3s/step\n",
      "Epoch 3/10\n",
      "313/313 - 1033s - loss: 0.3751 - accuracy: 0.8351 - val_loss: 0.3352 - val_accuracy: 0.8478 - 1033s/epoch - 3s/step\n",
      "Epoch 4/10\n",
      "313/313 - 1018s - loss: 0.3533 - accuracy: 0.8412 - val_loss: 0.3369 - val_accuracy: 0.8442 - 1018s/epoch - 3s/step\n",
      "Epoch 5/10\n",
      "313/313 - 1004s - loss: 0.3652 - accuracy: 0.8389 - val_loss: 0.3347 - val_accuracy: 0.8547 - 1004s/epoch - 3s/step\n",
      "Epoch 6/10\n",
      "313/313 - 1008s - loss: 0.3562 - accuracy: 0.8442 - val_loss: 0.3479 - val_accuracy: 0.8416 - 1008s/epoch - 3s/step\n",
      "Epoch 7/10\n",
      "313/313 - 1009s - loss: 0.3562 - accuracy: 0.8463 - val_loss: 0.3333 - val_accuracy: 0.8596 - 1009s/epoch - 3s/step\n",
      "Epoch 8/10\n",
      "313/313 - 1065s - loss: 0.3621 - accuracy: 0.8407 - val_loss: 0.3726 - val_accuracy: 0.8351 - 1065s/epoch - 3s/step\n",
      "Epoch 9/10\n",
      "313/313 - 1044s - loss: 0.3651 - accuracy: 0.8402 - val_loss: 0.3517 - val_accuracy: 0.8484 - 1044s/epoch - 3s/step\n",
      "Epoch 10/10\n",
      "313/313 - 1023s - loss: 0.3790 - accuracy: 0.8346 - val_loss: 0.3274 - val_accuracy: 0.8564 - 1023s/epoch - 3s/step\n"
     ]
    }
   ],
   "source": [
    "model_history=newmodel.fit(train,verbose=2,validation_data=test,epochs=10,callbacks=[callback])\n"
   ]
  },
  {
   "cell_type": "code",
   "execution_count": 73,
   "id": "4535d54e",
   "metadata": {},
   "outputs": [],
   "source": []
  },
  {
   "cell_type": "code",
   "execution_count": null,
   "id": "d53e9577",
   "metadata": {},
   "outputs": [],
   "source": []
  },
  {
   "cell_type": "code",
   "execution_count": null,
   "id": "7d6a5127",
   "metadata": {},
   "outputs": [],
   "source": []
  },
  {
   "cell_type": "code",
   "execution_count": null,
   "id": "43f5f38c",
   "metadata": {},
   "outputs": [],
   "source": []
  },
  {
   "cell_type": "code",
   "execution_count": 78,
   "id": "aea8ee4f",
   "metadata": {},
   "outputs": [],
   "source": [
    "file_path = os.path.join('./', 'AIvsREAL.h5')"
   ]
  },
  {
   "cell_type": "code",
   "execution_count": 79,
   "id": "bc671d19",
   "metadata": {},
   "outputs": [],
   "source": [
    "newmodel.save(file_path)"
   ]
  },
  {
   "cell_type": "code",
   "execution_count": 80,
   "id": "c3413055",
   "metadata": {},
   "outputs": [
    {
     "name": "stdout",
     "output_type": "stream",
     "text": [
      "{'FAKE': 0, 'REAL': 1}\n"
     ]
    }
   ],
   "source": [
    "print(train.class_indices)"
   ]
  },
  {
   "cell_type": "code",
   "execution_count": 81,
   "id": "66e0a03b",
   "metadata": {},
   "outputs": [
    {
     "name": "stdout",
     "output_type": "stream",
     "text": [
      "{'FAKE': 0, 'REAL': 1}\n"
     ]
    }
   ],
   "source": [
    "print(test.class_indices)"
   ]
  },
  {
   "cell_type": "code",
   "execution_count": 97,
   "id": "8b7f24be",
   "metadata": {},
   "outputs": [],
   "source": [
    "def prediction(image,final_model):\n",
    "    \n",
    "    img = np.around(np.array(image) / 255.0, decimals=12)\n",
    "    x_pred = np.expand_dims(img, axis=0)\n",
    "    result= np.argmax(final_model.predict(x_pred))\n",
    "    if result==1:\n",
    "        return 'REAL'\n",
    "    else:\n",
    "        return 'AI generated'"
   ]
  },
  {
   "cell_type": "code",
   "execution_count": 98,
   "id": "0391343f",
   "metadata": {},
   "outputs": [],
   "source": []
  },
  {
   "cell_type": "code",
   "execution_count": 100,
   "id": "3b67f480",
   "metadata": {},
   "outputs": [
    {
     "name": "stdout",
     "output_type": "stream",
     "text": [
      "1/1 [==============================] - 0s 224ms/step\n",
      "REAL\n"
     ]
    }
   ],
   "source": [
    "def get_image(image_path):\n",
    "    i=tf.keras.preprocessing.image.load_img(image_path, target_size=(126, 126))\n",
    "    return i\n",
    "    \n",
    "image_path='real1.jpg'\n",
    "\n",
    "final_model=load_model('AIvsREAL.h5')\n",
    "\n",
    "print(prediction(get_image(image_path),final_model))\n"
   ]
  },
  {
   "cell_type": "code",
   "execution_count": 101,
   "id": "39abb023",
   "metadata": {},
   "outputs": [
    {
     "name": "stdout",
     "output_type": "stream",
     "text": [
      "1/1 [==============================] - 0s 92ms/step\n",
      "AI generated\n"
     ]
    }
   ],
   "source": [
    "print(prediction(get_image('fake1.jpeg'),final_model))"
   ]
  },
  {
   "cell_type": "code",
   "execution_count": 104,
   "id": "f54d4a62",
   "metadata": {},
   "outputs": [
    {
     "name": "stdout",
     "output_type": "stream",
     "text": [
      "Training Loss: 0.37904196977615356\n",
      "Validation Loss: 0.32744285464286804\n",
      "Training Accuracy: 0.8345999717712402\n",
      "Validation Accuracy: 0.8564444184303284\n"
     ]
    }
   ],
   "source": [
    "print(f'Training Loss: {model_history.history[\"loss\"][-1]}')\n",
    "print(f'Validation Loss: {model_history.history[\"val_loss\"][-1]}')\n",
    "print(f'Training Accuracy: {model_history.history[\"accuracy\"][-1]}')\n",
    "print(f'Validation Accuracy: {model_history.history[\"val_accuracy\"][-1]}')\n"
   ]
  },
  {
   "cell_type": "code",
   "execution_count": 110,
   "id": "ea1ba745",
   "metadata": {},
   "outputs": [],
   "source": []
  },
  {
   "cell_type": "code",
   "execution_count": 116,
   "id": "1fc0d27e",
   "metadata": {},
   "outputs": [],
   "source": [
    "def summarize_diagnostics(history):\n",
    "    \n",
    "    accuracy = history.history['accuracy']\n",
    "    loss = history.history['loss']\n",
    "    val_acc=history.history['val_accuracy']\n",
    "    val_loss=history.history['val_loss']\n",
    "\n",
    "    # Plot the metrics\n",
    "    plt.figure(figsize=(10, 4))\n",
    "    plt.subplot(1, 2, 1)\n",
    "    plt.plot(accuracy, label='Accuracy')\n",
    "    plt.plot(val_acc,label='Validation Accuracy')\n",
    "    plt.title('Accuracy')\n",
    "    plt.xlabel('Epoch')\n",
    "    plt.ylabel('Accuracy')\n",
    "    plt.legend()\n",
    "\n",
    "    plt.subplot(1, 2, 2)\n",
    "    plt.plot(loss, label='Loss')\n",
    "    plt.plot(val_loss,label='Validation Loss')\n",
    "    plt.title('TLoss')\n",
    "    plt.xlabel('Epoch')\n",
    "    plt.ylabel('Loss')\n",
    "    plt.legend()\n",
    "\n",
    "    plt.tight_layout()\n",
    "    plt.show()"
   ]
  },
  {
   "cell_type": "code",
   "execution_count": 117,
   "id": "5a303aff",
   "metadata": {},
   "outputs": [
    {
     "data": {
      "image/png": "[encoded data removed]",
      "text/plain": [
       "<Figure size 720x288 with 2 Axes>"
      ]
     },
     "metadata": {
      "needs_background": "light"
     },
     "output_type": "display_data"
    }
   ],
   "source": [
    "summarize_diagnostics(model_history)"
   ]
  },
  {
   "cell_type": "code",
   "execution_count": 120,
   "id": "89a66a2f",
   "metadata": {},
   "outputs": [],
   "source": [
    "y_pred = newmodel.predict_generator(test)"
   ]
  },
  {
   "cell_type": "code",
   "execution_count": 122,
   "id": "2f3e6c67",
   "metadata": {},
   "outputs": [],
   "source": [
    "y_pred_classes = np.argmax(y_pred, axis=1)\n",
    "y_true = test.classes"
   ]
  },
  {
   "cell_type": "code",
   "execution_count": 128,
   "id": "3d9a02c1",
   "metadata": {},
   "outputs": [
    {
     "data": {
      "text/plain": [
       "<sklearn.metrics._plot.confusion_matrix.ConfusionMatrixDisplay at 0x1e6378402b0>"
      ]
     },
     "execution_count": 128,
     "metadata": {},
     "output_type": "execute_result"
    },
    {
     "data": {
      "text/plain": [
       "<Figure size 2880x720 with 0 Axes>"
      ]
     },
     "metadata": {},
     "output_type": "display_data"
    },
    {
     "data": {
      "image/png": "[encoded data removed]",
      "text/plain": [
       "<Figure size 432x288 with 2 Axes>"
      ]
     },
     "metadata": {
      "needs_background": "light"
     },
     "output_type": "display_data"
    }
   ],
   "source": [
    "\n",
    "cm=confusion_matrix(y_true,y_pred_classes)\n",
    "cmd = ConfusionMatrixDisplay(cm, display_labels=['AI Image','Real Image'])\n",
    "cmd.plot()"
   ]
  },
  {
   "cell_type": "code",
   "execution_count": 1,
   "id": "faff9a29",
   "metadata": {},
   "outputs": [],
   "source": [
    "\n",
    "def load_model():\n",
    "  final_model=load_model('AIvsREAL.h5')\n",
    "  return final_model\n"
   ]
  },
  {
   "cell_type": "code",
   "execution_count": 5,
   "id": "37b3ca9f",
   "metadata": {},
   "outputs": [
    {
     "name": "stdout",
     "output_type": "stream",
     "text": [
      "Collecting streamlit\n",
      "  Downloading streamlit-1.24.0-py2.py3-none-any.whl (8.9 MB)\n",
      "Collecting altair<6,>=4.0\n",
      "  Downloading altair-5.0.1-py3-none-any.whl (471 kB)\n",
      "Requirement already satisfied: requests<3,>=2.4 in c:\\users\\abhishek ambast\\anaconda3\\lib\\site-packages (from streamlit) (2.25.1)\n",
      "Collecting typing-extensions<5,>=4.0.1\n",
      "  Downloading typing_extensions-4.7.0-py3-none-any.whl (33 kB)\n",
      "Requirement already satisfied: tenacity<9,>=8.0.0 in c:\\users\\abhishek ambast\\anaconda3\\lib\\site-packages (from streamlit) (8.0.1)\n",
      "Requirement already satisfied: tornado<7,>=6.0.3 in c:\\users\\abhishek ambast\\anaconda3\\lib\\site-packages (from streamlit) (6.1)\n",
      "Requirement already satisfied: cachetools<6,>=4.0 in c:\\users\\abhishek ambast\\anaconda3\\lib\\site-packages (from streamlit) (5.2.1)\n",
      "Collecting pympler<2,>=0.9\n",
      "  Downloading Pympler-1.0.1-py3-none-any.whl (164 kB)\n",
      "Collecting tzlocal<5,>=1.1\n",
      "  Downloading tzlocal-4.3.1-py3-none-any.whl (20 kB)\n",
      "Collecting protobuf<5,>=3.20\n",
      "  Downloading protobuf-4.23.3-cp38-cp38-win_amd64.whl (422 kB)\n",
      "Collecting validators<1,>=0.2\n",
      "  Downloading validators-0.20.0.tar.gz (30 kB)\n",
      "Collecting rich<14,>=10.11.0\n",
      "  Downloading rich-13.4.2-py3-none-any.whl (239 kB)\n",
      "Requirement already satisfied: toml<2 in c:\\users\\abhishek ambast\\anaconda3\\lib\\site-packages (from streamlit) (0.10.2)\n",
      "Collecting pyarrow>=4.0\n",
      "  Downloading pyarrow-12.0.1-cp38-cp38-win_amd64.whl (21.5 MB)\n",
      "Collecting blinker<2,>=1.0.0\n",
      "  Downloading blinker-1.6.2-py3-none-any.whl (13 kB)\n",
      "Requirement already satisfied: numpy<2,>=1 in c:\\users\\abhishek ambast\\anaconda3\\lib\\site-packages (from streamlit) (1.20.1)\n",
      "Requirement already satisfied: click<9,>=7.0 in c:\\users\\abhishek ambast\\anaconda3\\lib\\site-packages (from streamlit) (7.1.2)\n",
      "Requirement already satisfied: pandas<3,>=0.25 in c:\\users\\abhishek ambast\\anaconda3\\lib\\site-packages (from streamlit) (1.2.4)\n",
      "Requirement already satisfied: pillow<10,>=6.2.0 in c:\\users\\abhishek ambast\\anaconda3\\lib\\site-packages (from streamlit) (8.2.0)\n",
      "Requirement already satisfied: packaging<24,>=14.1 in c:\\users\\abhishek ambast\\anaconda3\\lib\\site-packages (from streamlit) (20.9)\n",
      "Requirement already satisfied: importlib-metadata<7,>=1.4 in c:\\users\\abhishek ambast\\anaconda3\\lib\\site-packages (from streamlit) (6.0.0)\n",
      "Requirement already satisfied: watchdog in c:\\users\\abhishek ambast\\anaconda3\\lib\\site-packages (from streamlit) (1.0.2)\n",
      "Requirement already satisfied: python-dateutil<3,>=2 in c:\\users\\abhishek ambast\\anaconda3\\lib\\site-packages (from streamlit) (2.8.1)\n",
      "Collecting gitpython!=3.1.19,<4,>=3\n",
      "  Downloading GitPython-3.1.31-py3-none-any.whl (184 kB)\n",
      "Collecting pydeck<1,>=0.1.dev5\n",
      "  Downloading pydeck-0.8.1b0-py2.py3-none-any.whl (4.8 MB)\n",
      "Requirement already satisfied: jinja2 in c:\\users\\abhishek ambast\\anaconda3\\lib\\site-packages (from altair<6,>=4.0->streamlit) (2.11.3)\n",
      "Requirement already satisfied: toolz in c:\\users\\abhishek ambast\\anaconda3\\lib\\site-packages (from altair<6,>=4.0->streamlit) (0.11.1)\n",
      "Requirement already satisfied: jsonschema>=3.0 in c:\\users\\abhishek ambast\\anaconda3\\lib\\site-packages (from altair<6,>=4.0->streamlit) (3.2.0)\n",
      "Collecting gitdb<5,>=4.0.1\n",
      "  Downloading gitdb-4.0.10-py3-none-any.whl (62 kB)\n",
      "Collecting smmap<6,>=3.0.1\n",
      "  Downloading smmap-5.0.0-py3-none-any.whl (24 kB)\n",
      "Requirement already satisfied: zipp>=0.5 in c:\\users\\abhishek ambast\\anaconda3\\lib\\site-packages (from importlib-metadata<7,>=1.4->streamlit) (3.4.1)\n",
      "Requirement already satisfied: attrs>=17.4.0 in c:\\users\\abhishek ambast\\anaconda3\\lib\\site-packages (from jsonschema>=3.0->altair<6,>=4.0->streamlit) (20.3.0)\n",
      "Requirement already satisfied: setuptools in c:\\users\\abhishek ambast\\anaconda3\\lib\\site-packages (from jsonschema>=3.0->altair<6,>=4.0->streamlit) (52.0.0.post20210125)\n",
      "Requirement already satisfied: six>=1.11.0 in c:\\users\\abhishek ambast\\anaconda3\\lib\\site-packages (from jsonschema>=3.0->altair<6,>=4.0->streamlit) (1.15.0)\n",
      "Requirement already satisfied: pyrsistent>=0.14.0 in c:\\users\\abhishek ambast\\anaconda3\\lib\\site-packages (from jsonschema>=3.0->altair<6,>=4.0->streamlit) (0.17.3)\n",
      "Requirement already satisfied: pyparsing>=2.0.2 in c:\\users\\abhishek ambast\\anaconda3\\lib\\site-packages (from packaging<24,>=14.1->streamlit) (2.4.7)\n",
      "Requirement already satisfied: pytz>=2017.3 in c:\\users\\abhishek ambast\\anaconda3\\lib\\site-packages (from pandas<3,>=0.25->streamlit) (2021.1)\n",
      "Requirement already satisfied: MarkupSafe>=0.23 in c:\\users\\abhishek ambast\\anaconda3\\lib\\site-packages (from jinja2->altair<6,>=4.0->streamlit) (1.1.1)\n",
      "Requirement already satisfied: chardet<5,>=3.0.2 in c:\\users\\abhishek ambast\\anaconda3\\lib\\site-packages (from requests<3,>=2.4->streamlit) (4.0.0)\n",
      "Requirement already satisfied: certifi>=2017.4.17 in c:\\users\\abhishek ambast\\anaconda3\\lib\\site-packages (from requests<3,>=2.4->streamlit) (2020.12.5)\n",
      "Requirement already satisfied: urllib3<1.27,>=1.21.1 in c:\\users\\abhishek ambast\\anaconda3\\lib\\site-packages (from requests<3,>=2.4->streamlit) (1.26.4)\n",
      "Requirement already satisfied: idna<3,>=2.5 in c:\\users\\abhishek ambast\\anaconda3\\lib\\site-packages (from requests<3,>=2.4->streamlit) (2.10)\n",
      "Collecting pygments<3.0.0,>=2.13.0\n",
      "  Downloading Pygments-2.15.1-py3-none-any.whl (1.1 MB)\n",
      "Collecting markdown-it-py>=2.2.0\n",
      "  Downloading markdown_it_py-3.0.0-py3-none-any.whl (87 kB)\n",
      "Collecting mdurl~=0.1\n",
      "  Downloading mdurl-0.1.2-py3-none-any.whl (10.0 kB)\n",
      "Collecting tzdata\n",
      "  Downloading tzdata-2023.3-py2.py3-none-any.whl (341 kB)\n",
      "Collecting backports.zoneinfo\n",
      "  Downloading backports.zoneinfo-0.2.1-cp38-cp38-win_amd64.whl (38 kB)\n",
      "Collecting pytz-deprecation-shim\n",
      "  Downloading pytz_deprecation_shim-0.1.0.post0-py2.py3-none-any.whl (15 kB)\n",
      "Requirement already satisfied: decorator>=3.4.0 in c:\\users\\abhishek ambast\\anaconda3\\lib\\site-packages (from validators<1,>=0.2->streamlit) (5.0.6)\n",
      "Building wheels for collected packages: validators\n",
      "  Building wheel for validators (setup.py): started\n",
      "  Building wheel for validators (setup.py): finished with status 'done'\n",
      "  Created wheel for validators: filename=validators-0.20.0-py3-none-any.whl size=19567 sha256=658157faedebe9463bfaee038c72e286a20ffa3f0c018062be9602bec0c3425c\n",
      "  Stored in directory: c:\\users\\abhishek ambast\\appdata\\local\\pip\\cache\\wheels\\19\\09\\72\\3eb74d236bb48bd0f3c6c3c83e4e0c5bbfcbcad7c6c3539db8\n",
      "Successfully built validators\n",
      "Installing collected packages: tzdata, smmap, mdurl, backports.zoneinfo, typing-extensions, pytz-deprecation-shim, pygments, markdown-it-py, gitdb, validators, tzlocal, rich, pympler, pydeck, pyarrow, protobuf, gitpython, blinker, altair, streamlit\n",
      "  Attempting uninstall: typing-extensions\n",
      "    Found existing installation: typing-extensions 3.7.4.3\n",
      "    Uninstalling typing-extensions-3.7.4.3:\n",
      "      Successfully uninstalled typing-extensions-3.7.4.3\n",
      "  Attempting uninstall: pygments\n",
      "    Found existing installation: Pygments 2.8.1\n",
      "    Uninstalling Pygments-2.8.1:\n",
      "      Successfully uninstalled Pygments-2.8.1\n",
      "  Attempting uninstall: protobuf\n",
      "    Found existing installation: protobuf 3.19.6\n",
      "    Uninstalling protobuf-3.19.6:\n",
      "      Successfully uninstalled protobuf-3.19.6\n"
     ]
    },
    {
     "name": "stderr",
     "output_type": "stream",
     "text": [
      "ERROR: Could not install packages due to an OSError: [WinError 5] Access is denied: 'C:\\\\Users\\\\Abhishek Ambast\\\\anaconda3\\\\Lib\\\\site-packages\\\\google\\\\~rotobuf\\\\internal\\\\_api_implementation.cp38-win_amd64.pyd'\n",
      "Consider using the `--user` option or check the permissions.\n",
      "\n"
     ]
    }
   ],
   "source": [
    "\n",
    "!pip install streamlit"
   ]
  },
  {
   "cell_type": "code",
   "execution_count": 3,
   "id": "24c255eb",
   "metadata": {},
   "outputs": [
    {
     "name": "stdout",
     "output_type": "stream",
     "text": [
      "Overwriting app.py\n"
     ]
    }
   ],
   "source": [
    "\n",
    "%%writefile app.py\n",
    "import streamlit as st\n",
    "import tensorflow as tf\n",
    "import streamlit as st\n",
    "\n",
    "\n",
    "@st.cache(allow_output_mutation=True)\n",
    "def load_curr_model():\n",
    "    with st.spinner('Model is being loaded..'):\n",
    "        curr_model = load_model('AIvsREAL.h5')\n",
    "    return curr_model\n",
    "\n",
    "st.write(\"AI generated Images vs Real Images\")\n",
    "\n",
    "file = st.file_uploader(\"Please upload an brain scan file\", type=[\"jpg\", \"png\",\"jpeg\"])\n",
    "import cv2\n",
    "from PIL import Image, ImageOps\n",
    "import numpy as np\n",
    "st.set_option('deprecation.showfileUploaderEncoding', False)\n",
    "def import_and_predict(image_data, model):\n",
    "    \n",
    "        size = (126,126)    \n",
    "        image = ImageOps.fit(image_data, size, Image.ANTIALIAS)\n",
    "        image = np.asarray(image)\n",
    "        img = cv2.cvtColor(image, cv2.COLOR_BGR2RGB)\n",
    "        \n",
    "        \n",
    "        img_reshape = img[np.newaxis,...]\n",
    "    \n",
    "        prediction = model.predict(img_reshape)\n",
    "        \n",
    "        return prediction\n",
    "if file is None:\n",
    "    st.text(\"Please upload an image file\")\n",
    "else:\n",
    "    image = Image.open(file)\n",
    "    st.image(image, use_column_width=True)\n",
    "    prediction = import_and_predict(image, load_curr_model())\n",
    "    \n",
    "    st.write(prediction)\n",
    "    \n",
    "    if(np.argmax(prediction)==1):\n",
    "        print(\"This is a Real Image\")\n",
    "    else:\n",
    "        print(\"This is an AI generated Image\")\n",
    "    \n",
    "    \n",
    "\n"
   ]
  },
  {
   "cell_type": "code",
   "execution_count": 2,
   "id": "ddd6621f",
   "metadata": {},
   "outputs": [
    {
     "name": "stdout",
     "output_type": "stream",
     "text": [
      "Collecting pyngrok\n",
      "  Downloading pyngrok-6.0.0.tar.gz (681 kB)\n",
      "Requirement already satisfied: PyYAML in c:\\users\\abhishek ambast\\anaconda3\\lib\\site-packages (from pyngrok) (5.4.1)\n",
      "Building wheels for collected packages: pyngrok\n",
      "  Building wheel for pyngrok (setup.py): started\n",
      "  Building wheel for pyngrok (setup.py): finished with status 'done'\n",
      "  Created wheel for pyngrok: filename=pyngrok-6.0.0-py3-none-any.whl size=19871 sha256=f4986e419f0aea5c44d12588335f979850ea348a1f54f2211507c513d358d4cb\n",
      "  Stored in directory: c:\\users\\abhishek ambast\\appdata\\local\\pip\\cache\\wheels\\99\\bb\\19\\229a2ca20c12e770e05a8044fa290aa80d821755ef353b0065\n",
      "Successfully built pyngrok\n",
      "Installing collected packages: pyngrok\n",
      "Successfully installed pyngrok-6.0.0\n"
     ]
    }
   ],
   "source": [
    "!pip install pyngrok"
   ]
  },
  {
   "cell_type": "code",
   "execution_count": 3,
   "id": "785fd388",
   "metadata": {},
   "outputs": [
    {
     "name": "stdout",
     "output_type": "stream",
     "text": [
      "Authtoken saved to configuration file: C:\\Users\\Abhishek Ambast/.ngrok2/ngrok.yml\n"
     ]
    }
   ],
   "source": [
    "!ngrok authtoken 2Rsufn2Rf4SO1iLbp698HDWU3wr_R7a9kzyVZ3PFY51z81z5"
   ]
  },
  {
   "cell_type": "code",
   "execution_count": null,
   "id": "f8e42411",
   "metadata": {},
   "outputs": [],
   "source": []
  },
  {
   "cell_type": "code",
   "execution_count": null,
   "id": "408522cf",
   "metadata": {},
   "outputs": [],
   "source": []
  },
  {
   "cell_type": "code",
   "execution_count": null,
   "id": "e6147bc0",
   "metadata": {},
   "outputs": [],
   "source": []
  },
  {
   "cell_type": "code",
   "execution_count": 10,
   "id": "64a5c6bd",
   "metadata": {},
   "outputs": [
    {
     "name": "stdout",
     "output_type": "stream",
     "text": [
      "Collecting wget\n",
      "  Downloading wget-3.2.zip (10 kB)\n",
      "Building wheels for collected packages: wget\n",
      "  Building wheel for wget (setup.py): started\n",
      "  Building wheel for wget (setup.py): finished with status 'done'\n",
      "  Created wheel for wget: filename=wget-3.2-py3-none-any.whl size=9680 sha256=2d7b71ccced76dd0f976e3ec633511d45416002cdb8b86f8459dd55b8a39de7b\n",
      "  Stored in directory: c:\\users\\abhishek ambast\\appdata\\local\\pip\\cache\\wheels\\bd\\a8\\c3\\3cf2c14a1837a4e04bd98631724e81f33f462d86a1d895fae0\n",
      "Successfully built wget\n",
      "Installing collected packages: wget\n",
      "Successfully installed wget-3.2\n"
     ]
    }
   ],
   "source": [
    "!pip install wget"
   ]
  },
  {
   "cell_type": "code",
   "execution_count": 10,
   "id": "0309d4ed",
   "metadata": {},
   "outputs": [
    {
     "name": "stdout",
     "output_type": "stream",
     "text": [
      "Collecting unzip\n",
      "  Downloading unzip-1.0.0.tar.gz (704 bytes)\n",
      "Building wheels for collected packages: unzip\n",
      "  Building wheel for unzip (setup.py): started\n",
      "  Building wheel for unzip (setup.py): finished with status 'done'\n",
      "  Created wheel for unzip: filename=unzip-1.0.0-py3-none-any.whl size=1330 sha256=f4c01ba1fbd770cebc6d69cfaaf8476ca6136809d254ba6ecee175b4f2d241ab\n",
      "  Stored in directory: c:\\users\\abhishek ambast\\appdata\\local\\pip\\cache\\wheels\\90\\bd\\0f\\a2797a7e90de1cdd91548fba3b16a7c2560e14a268bb137101\n",
      "Successfully built unzip\n",
      "Installing collected packages: unzip\n",
      "Successfully installed unzip-1.0.0\n"
     ]
    }
   ],
   "source": [
    "!pip install unzip"
   ]
  },
  {
   "cell_type": "code",
   "execution_count": 6,
   "id": "d3824532",
   "metadata": {},
   "outputs": [],
   "source": [
    "import wget"
   ]
  },
  {
   "cell_type": "code",
   "execution_count": null,
   "id": "de7243c6",
   "metadata": {},
   "outputs": [],
   "source": []
  },
  {
   "cell_type": "code",
   "execution_count": 20,
   "id": "195ef00b",
   "metadata": {},
   "outputs": [],
   "source": [
    "from pyngrok import ngrok"
   ]
  },
  {
   "cell_type": "code",
   "execution_count": null,
   "id": "65e9bf8d",
   "metadata": {},
   "outputs": [],
   "source": []
  },
  {
   "cell_type": "code",
   "execution_count": 27,
   "id": "f0adc849",
   "metadata": {},
   "outputs": [],
   "source": [
    "import os"
   ]
  },
  {
   "cell_type": "code",
   "execution_count": 28,
   "id": "5ebc5380",
   "metadata": {},
   "outputs": [
    {
     "name": "stdout",
     "output_type": "stream",
     "text": [
      "                                                                                                    \r"
     ]
    }
   ],
   "source": [
    "import ssl\n",
    "from pyngrok import ngrok, conf, installer\n",
    "\n",
    "pyngrok_config = conf.get_default()\n",
    "\n",
    "if not os.path.exists(pyngrok_config.ngrok_path):\n",
    "    myssl = ssl.create_default_context();\n",
    "    myssl.check_hostname=False\n",
    "    myssl.verify_mode=ssl.CERT_NONE\n",
    "    installer.install_ngrok(pyngrok_config.ngrok_path, context=myssl)"
   ]
  },
  {
   "cell_type": "code",
   "execution_count": 29,
   "id": "ceefca92",
   "metadata": {},
   "outputs": [
    {
     "name": "stdout",
     "output_type": "stream",
     "text": [
      "Authtoken saved to configuration file: C:\\Users\\Abhishek Ambast/.ngrok2/ngrok.yml\n"
     ]
    }
   ],
   "source": [
    "!ngrok authtoken 2Rsufn2Rf4SO1iLbp698HDWU3wr_R7a9kzyVZ3PFY51z81z"
   ]
  },
  {
   "cell_type": "code",
   "execution_count": 4,
   "id": "36819112",
   "metadata": {},
   "outputs": [
    {
     "ename": "OSError",
     "evalue": "Background processes not supported.",
     "output_type": "error",
     "traceback": [
      "\u001b[1;31m---------------------------------------------------------------------------\u001b[0m",
      "\u001b[1;31mOSError\u001b[0m                                   Traceback (most recent call last)",
      "\u001b[1;32m<ipython-input-4-3db38bd211d6>\u001b[0m in \u001b[0;36m<module>\u001b[1;34m\u001b[0m\n\u001b[1;32m----> 1\u001b[1;33m \u001b[0mget_ipython\u001b[0m\u001b[1;33m(\u001b[0m\u001b[1;33m)\u001b[0m\u001b[1;33m.\u001b[0m\u001b[0msystem\u001b[0m\u001b[1;33m(\u001b[0m\u001b[1;34m'nohup streamlit run app.py &'\u001b[0m\u001b[1;33m)\u001b[0m\u001b[1;33m\u001b[0m\u001b[1;33m\u001b[0m\u001b[0m\n\u001b[0m",
      "\u001b[1;32m~\\anaconda3\\lib\\site-packages\\ipykernel\\zmqshell.py\u001b[0m in \u001b[0;36msystem_piped\u001b[1;34m(self, cmd)\u001b[0m\n\u001b[0;32m    618\u001b[0m             \u001b[1;31m# os.system() or use ip.system=ip.system_raw\u001b[0m\u001b[1;33m\u001b[0m\u001b[1;33m\u001b[0m\u001b[1;33m\u001b[0m\u001b[0m\n\u001b[0;32m    619\u001b[0m             \u001b[1;31m# if they really want a background process.\u001b[0m\u001b[1;33m\u001b[0m\u001b[1;33m\u001b[0m\u001b[1;33m\u001b[0m\u001b[0m\n\u001b[1;32m--> 620\u001b[1;33m             \u001b[1;32mraise\u001b[0m \u001b[0mOSError\u001b[0m\u001b[1;33m(\u001b[0m\u001b[1;34m\"Background processes not supported.\"\u001b[0m\u001b[1;33m)\u001b[0m\u001b[1;33m\u001b[0m\u001b[1;33m\u001b[0m\u001b[0m\n\u001b[0m\u001b[0;32m    621\u001b[0m \u001b[1;33m\u001b[0m\u001b[0m\n\u001b[0;32m    622\u001b[0m         \u001b[1;31m# we explicitly do NOT return the subprocess status code, because\u001b[0m\u001b[1;33m\u001b[0m\u001b[1;33m\u001b[0m\u001b[1;33m\u001b[0m\u001b[0m\n",
      "\u001b[1;31mOSError\u001b[0m: Background processes not supported."
     ]
    }
   ],
   "source": [
    "!nohup streamlit run app.py &"
   ]
  },
  {
   "cell_type": "code",
   "execution_count": 33,
   "id": "48724682",
   "metadata": {},
   "outputs": [
    {
     "name": "stderr",
     "output_type": "stream",
     "text": [
      "t=2023-06-29T21:06:55+0530 lvl=eror msg=\"failed to auth\" obj=tunnels.session err=\"The authtoken you specified is properly formed, but it is invalid.\\nYour authtoken: 2Rsufn2Rf4SO1iLbp698HDWU3wr_R7a9kzyVZ3PFY51z81z\\nThis usually happens when:\\n    - You reset your authtoken\\n    - Your authtoken was for a team account that you were removed from\\n    - You are using ngrok link and this credential was explicitly revoked\\nGo to your ngrok dashboard and double check that your authtoken is correct:\\nhttps://dashboard.ngrok.com/get-started/your-authtoken\\r\\n\\r\\nERR_NGROK_107\\r\\n\"\n",
      "t=2023-06-29T21:06:55+0530 lvl=eror msg=\"failed to reconnect session\" obj=csess id=92f904ed8c2e err=\"The authtoken you specified is properly formed, but it is invalid.\\nYour authtoken: 2Rsufn2Rf4SO1iLbp698HDWU3wr_R7a9kzyVZ3PFY51z81z\\nThis usually happens when:\\n    - You reset your authtoken\\n    - Your authtoken was for a team account that you were removed from\\n    - You are using ngrok link and this credential was explicitly revoked\\nGo to your ngrok dashboard and double check that your authtoken is correct:\\nhttps://dashboard.ngrok.com/get-started/your-authtoken\\r\\n\\r\\nERR_NGROK_107\\r\\n\"\n",
      "t=2023-06-29T21:06:55+0530 lvl=eror msg=\"session closing\" obj=tunnels.session err=\"The authtoken you specified is properly formed, but it is invalid.\\nYour authtoken: 2Rsufn2Rf4SO1iLbp698HDWU3wr_R7a9kzyVZ3PFY51z81z\\nThis usually happens when:\\n    - You reset your authtoken\\n    - Your authtoken was for a team account that you were removed from\\n    - You are using ngrok link and this credential was explicitly revoked\\nGo to your ngrok dashboard and double check that your authtoken is correct:\\nhttps://dashboard.ngrok.com/get-started/your-authtoken\\r\\n\\r\\nERR_NGROK_107\\r\\n\"\n"
     ]
    },
    {
     "ename": "PyngrokNgrokError",
     "evalue": "The ngrok process errored on start: The authtoken you specified is properly formed, but it is invalid.\\nYour authtoken: 2Rsufn2Rf4SO1iLbp698HDWU3wr_R7a9kzyVZ3PFY51z81z\\nThis usually happens when:\\n    - You reset your authtoken\\n    - Your authtoken was for a team account that you were removed from\\n    - You are using ngrok link and this credential was explicitly revoked\\nGo to your ngrok dashboard and double check that your authtoken is correct:\\nhttps://dashboard.ngrok.com/get-started/your-authtoken\\r\\n\\r\\nERR_NGROK_107\\r\\n.",
     "output_type": "error",
     "traceback": [
      "\u001b[1;31m---------------------------------------------------------------------------\u001b[0m",
      "\u001b[1;31mPyngrokNgrokError\u001b[0m                         Traceback (most recent call last)",
      "\u001b[1;32m<ipython-input-33-a6ae388f6b3f>\u001b[0m in \u001b[0;36m<module>\u001b[1;34m\u001b[0m\n\u001b[0;32m      1\u001b[0m \u001b[1;32mfrom\u001b[0m \u001b[0mpyngrok\u001b[0m \u001b[1;32mimport\u001b[0m \u001b[0mngrok\u001b[0m\u001b[1;33m\u001b[0m\u001b[1;33m\u001b[0m\u001b[0m\n\u001b[1;32m----> 2\u001b[1;33m \u001b[0murl\u001b[0m\u001b[1;33m=\u001b[0m\u001b[0mngrok\u001b[0m\u001b[1;33m.\u001b[0m\u001b[0mconnect\u001b[0m\u001b[1;33m(\u001b[0m\u001b[0mport\u001b[0m\u001b[1;33m=\u001b[0m\u001b[1;36m8501\u001b[0m\u001b[1;33m)\u001b[0m\u001b[1;33m\u001b[0m\u001b[1;33m\u001b[0m\u001b[0m\n\u001b[0m\u001b[0;32m      3\u001b[0m \u001b[0murl\u001b[0m\u001b[1;33m\u001b[0m\u001b[1;33m\u001b[0m\u001b[0m\n",
      "\u001b[1;32m~\\anaconda3\\lib\\site-packages\\pyngrok\\ngrok.py\u001b[0m in \u001b[0;36mconnect\u001b[1;34m(addr, proto, name, pyngrok_config, **options)\u001b[0m\n\u001b[0;32m    275\u001b[0m             \u001b[0moptions\u001b[0m\u001b[1;33m.\u001b[0m\u001b[0mpop\u001b[0m\u001b[1;33m(\u001b[0m\u001b[1;34m\"auth\"\u001b[0m\u001b[1;33m)\u001b[0m\u001b[1;33m\u001b[0m\u001b[1;33m\u001b[0m\u001b[0m\n\u001b[0;32m    276\u001b[0m \u001b[1;33m\u001b[0m\u001b[0m\n\u001b[1;32m--> 277\u001b[1;33m     \u001b[0mapi_url\u001b[0m \u001b[1;33m=\u001b[0m \u001b[0mget_ngrok_process\u001b[0m\u001b[1;33m(\u001b[0m\u001b[0mpyngrok_config\u001b[0m\u001b[1;33m)\u001b[0m\u001b[1;33m.\u001b[0m\u001b[0mapi_url\u001b[0m\u001b[1;33m\u001b[0m\u001b[1;33m\u001b[0m\u001b[0m\n\u001b[0m\u001b[0;32m    278\u001b[0m \u001b[1;33m\u001b[0m\u001b[0m\n\u001b[0;32m    279\u001b[0m     \u001b[0mlogger\u001b[0m\u001b[1;33m.\u001b[0m\u001b[0mdebug\u001b[0m\u001b[1;33m(\u001b[0m\u001b[1;34m\"Creating tunnel with options: {}\"\u001b[0m\u001b[1;33m.\u001b[0m\u001b[0mformat\u001b[0m\u001b[1;33m(\u001b[0m\u001b[0moptions\u001b[0m\u001b[1;33m)\u001b[0m\u001b[1;33m)\u001b[0m\u001b[1;33m\u001b[0m\u001b[1;33m\u001b[0m\u001b[0m\n",
      "\u001b[1;32m~\\anaconda3\\lib\\site-packages\\pyngrok\\ngrok.py\u001b[0m in \u001b[0;36mget_ngrok_process\u001b[1;34m(pyngrok_config)\u001b[0m\n\u001b[0;32m    162\u001b[0m     \u001b[0minstall_ngrok\u001b[0m\u001b[1;33m(\u001b[0m\u001b[0mpyngrok_config\u001b[0m\u001b[1;33m)\u001b[0m\u001b[1;33m\u001b[0m\u001b[1;33m\u001b[0m\u001b[0m\n\u001b[0;32m    163\u001b[0m \u001b[1;33m\u001b[0m\u001b[0m\n\u001b[1;32m--> 164\u001b[1;33m     \u001b[1;32mreturn\u001b[0m \u001b[0mprocess\u001b[0m\u001b[1;33m.\u001b[0m\u001b[0mget_process\u001b[0m\u001b[1;33m(\u001b[0m\u001b[0mpyngrok_config\u001b[0m\u001b[1;33m)\u001b[0m\u001b[1;33m\u001b[0m\u001b[1;33m\u001b[0m\u001b[0m\n\u001b[0m\u001b[0;32m    165\u001b[0m \u001b[1;33m\u001b[0m\u001b[0m\n\u001b[0;32m    166\u001b[0m \u001b[1;33m\u001b[0m\u001b[0m\n",
      "\u001b[1;32m~\\anaconda3\\lib\\site-packages\\pyngrok\\process.py\u001b[0m in \u001b[0;36mget_process\u001b[1;34m(pyngrok_config)\u001b[0m\n\u001b[0;32m    301\u001b[0m         \u001b[1;32mreturn\u001b[0m \u001b[0m_current_processes\u001b[0m\u001b[1;33m[\u001b[0m\u001b[0mpyngrok_config\u001b[0m\u001b[1;33m.\u001b[0m\u001b[0mngrok_path\u001b[0m\u001b[1;33m]\u001b[0m\u001b[1;33m\u001b[0m\u001b[1;33m\u001b[0m\u001b[0m\n\u001b[0;32m    302\u001b[0m \u001b[1;33m\u001b[0m\u001b[0m\n\u001b[1;32m--> 303\u001b[1;33m     \u001b[1;32mreturn\u001b[0m \u001b[0m_start_process\u001b[0m\u001b[1;33m(\u001b[0m\u001b[0mpyngrok_config\u001b[0m\u001b[1;33m)\u001b[0m\u001b[1;33m\u001b[0m\u001b[1;33m\u001b[0m\u001b[0m\n\u001b[0m\u001b[0;32m    304\u001b[0m \u001b[1;33m\u001b[0m\u001b[0m\n\u001b[0;32m    305\u001b[0m \u001b[1;33m\u001b[0m\u001b[0m\n",
      "\u001b[1;32m~\\anaconda3\\lib\\site-packages\\pyngrok\\process.py\u001b[0m in \u001b[0;36m_start_process\u001b[1;34m(pyngrok_config)\u001b[0m\n\u001b[0;32m    470\u001b[0m \u001b[1;33m\u001b[0m\u001b[0m\n\u001b[0;32m    471\u001b[0m         \u001b[1;32mif\u001b[0m \u001b[0mngrok_process\u001b[0m\u001b[1;33m.\u001b[0m\u001b[0mstartup_error\u001b[0m \u001b[1;32mis\u001b[0m \u001b[1;32mnot\u001b[0m \u001b[1;32mNone\u001b[0m\u001b[1;33m:\u001b[0m\u001b[1;33m\u001b[0m\u001b[1;33m\u001b[0m\u001b[0m\n\u001b[1;32m--> 472\u001b[1;33m             raise PyngrokNgrokError(\"The ngrok process errored on start: {}.\".format(ngrok_process.startup_error),\n\u001b[0m\u001b[0;32m    473\u001b[0m                                     \u001b[0mngrok_process\u001b[0m\u001b[1;33m.\u001b[0m\u001b[0mlogs\u001b[0m\u001b[1;33m,\u001b[0m\u001b[1;33m\u001b[0m\u001b[1;33m\u001b[0m\u001b[0m\n\u001b[0;32m    474\u001b[0m                                     ngrok_process.startup_error)\n",
      "\u001b[1;31mPyngrokNgrokError\u001b[0m: The ngrok process errored on start: The authtoken you specified is properly formed, but it is invalid.\\nYour authtoken: 2Rsufn2Rf4SO1iLbp698HDWU3wr_R7a9kzyVZ3PFY51z81z\\nThis usually happens when:\\n    - You reset your authtoken\\n    - Your authtoken was for a team account that you were removed from\\n    - You are using ngrok link and this credential was explicitly revoked\\nGo to your ngrok dashboard and double check that your authtoken is correct:\\nhttps://dashboard.ngrok.com/get-started/your-authtoken\\r\\n\\r\\nERR_NGROK_107\\r\\n."
     ]
    }
   ],
   "source": [
    "from pyngrok import ngrok\n",
    "url=ngrok.connect(port=8501)\n",
    "url\n"
   ]
  },
  {
   "cell_type": "code",
   "execution_count": 5,
   "id": "19ac7d10",
   "metadata": {},
   "outputs": [
    {
     "name": "stderr",
     "output_type": "stream",
     "text": [
      "'st' is not recognized as an internal or external command,\n",
      "operable program or batch file.\n",
      "npm ERR! arg Argument starts with non-ascii dash, this is probably invalid: â€“port\n",
      "npm WARN exec The following package was not found and will be installed: localtunnel@2.0.2\n",
      "Usage: lt --port [num] <options>\n",
      "\n",
      "Options:\n",
      "  -p, --port                Internal HTTP server port                 [required]\n",
      "  -h, --host                Upstream server providing forwarding\n",
      "                                             [default: \"https://localtunnel.me\"]\n",
      "  -s, --subdomain           Request this subdomain\n",
      "  -l, --local-host          Tunnel traffic to this host instead of localhost,\n",
      "                            override Host header to this host\n",
      "      --local-https         Tunnel traffic to a local HTTPS server     [boolean]\n",
      "      --local-cert          Path to certificate PEM file for local HTTPS server\n",
      "      --local-key           Path to certificate key file for local HTTPS server\n",
      "      --local-ca            Path to certificate authority file for self-signed\n",
      "                            certificates\n",
      "      --allow-invalid-cert  Disable certificate checks for your local HTTPS\n",
      "                            server (ignore cert/key/ca options)        [boolean]\n",
      "  -o, --open                Opens the tunnel URL in your browser\n",
      "      --print-requests      Print basic request info                   [boolean]\n",
      "      --help                Show this help and exit                    [boolean]\n",
      "      --version             Show version number                        [boolean]\n",
      "\n",
      "Missing required argument: port\n"
     ]
    }
   ],
   "source": [
    "!st run app.py & npx localtunnel –port 8501"
   ]
  },
  {
   "cell_type": "code",
   "execution_count": 38,
   "id": "6adf2827",
   "metadata": {},
   "outputs": [
    {
     "ename": "NameError",
     "evalue": "name 'app' is not defined",
     "output_type": "error",
     "traceback": [
      "\u001b[1;31m---------------------------------------------------------------------------\u001b[0m",
      "\u001b[1;31mNameError\u001b[0m                                 Traceback (most recent call last)",
      "\u001b[1;32m<ipython-input-38-16e30b4b66d7>\u001b[0m in \u001b[0;36m<module>\u001b[1;34m\u001b[0m\n\u001b[0;32m      1\u001b[0m \u001b[1;32mif\u001b[0m \u001b[0m__name__\u001b[0m \u001b[1;33m==\u001b[0m \u001b[1;34m'__main__'\u001b[0m\u001b[1;33m:\u001b[0m\u001b[1;33m\u001b[0m\u001b[1;33m\u001b[0m\u001b[0m\n\u001b[1;32m----> 2\u001b[1;33m     \u001b[0mapp\u001b[0m\u001b[1;33m.\u001b[0m\u001b[0mrun\u001b[0m\u001b[1;33m(\u001b[0m\u001b[1;33m)\u001b[0m\u001b[1;33m\u001b[0m\u001b[1;33m\u001b[0m\u001b[0m\n\u001b[0m",
      "\u001b[1;31mNameError\u001b[0m: name 'app' is not defined"
     ]
    }
   ],
   "source": []
  },
  {
   "cell_type": "code",
   "execution_count": 6,
   "id": "be1bdeaf",
   "metadata": {},
   "outputs": [
    {
     "ename": "SyntaxError",
     "evalue": "invalid syntax (<ipython-input-6-26eae9bedaae>, line 1)",
     "output_type": "error",
     "traceback": [
      "\u001b[1;36m  File \u001b[1;32m\"<ipython-input-6-26eae9bedaae>\"\u001b[1;36m, line \u001b[1;32m1\u001b[0m\n\u001b[1;33m    streamlit run app.py\u001b[0m\n\u001b[1;37m              ^\u001b[0m\n\u001b[1;31mSyntaxError\u001b[0m\u001b[1;31m:\u001b[0m invalid syntax\n"
     ]
    }
   ],
   "source": [
    "streamlit run app.py\n",
    "npm install -g localtunnel\n",
    "localtunnel --port 8501"
   ]
  },
  {
   "cell_type": "code",
   "execution_count": 7,
   "id": "e70d4967",
   "metadata": {},
   "outputs": [
    {
     "ename": "SyntaxError",
     "evalue": "invalid syntax (<ipython-input-7-fee2ec4a42a9>, line 3)",
     "output_type": "error",
     "traceback": [
      "\u001b[1;36m  File \u001b[1;32m\"<ipython-input-7-fee2ec4a42a9>\"\u001b[1;36m, line \u001b[1;32m3\u001b[0m\n\u001b[1;33m    localtunnel --port 8501\u001b[0m\n\u001b[1;37m                       ^\u001b[0m\n\u001b[1;31mSyntaxError\u001b[0m\u001b[1;31m:\u001b[0m invalid syntax\n"
     ]
    }
   ],
   "source": [
    "!streamlit run app.py\n",
    "!npm install -g localtunnel\n",
    "localtunnel --port 8501"
   ]
  },
  {
   "cell_type": "code",
   "execution_count": 8,
   "id": "a76f23f2",
   "metadata": {},
   "outputs": [
    {
     "name": "stderr",
     "output_type": "stream",
     "text": [
      "'streamlit' is not recognized as an internal or external command,\n",
      "operable program or batch file.\n"
     ]
    },
    {
     "name": "stdout",
     "output_type": "stream",
     "text": [
      "\n",
      "added 22 packages in 425ms\n",
      "\n",
      "3 packages are looking for funding\n",
      "  run `npm fund` for details\n"
     ]
    },
    {
     "name": "stderr",
     "output_type": "stream",
     "text": [
      "'localtunnel' is not recognized as an internal or external command,\n",
      "operable program or batch file.\n"
     ]
    }
   ],
   "source": [
    "!streamlit run app.py\n",
    "!npm install -g localtunnel\n",
    "!localtunnel --port 8501"
   ]
  },
  {
   "cell_type": "code",
   "execution_count": 5,
   "id": "e1731986",
   "metadata": {},
   "outputs": [
    {
     "name": "stdout",
     "output_type": "stream",
     "text": [
      "Initialized empty Git repository in C:/Machine_Learning/AI vs real/.git/\n"
     ]
    }
   ],
   "source": [
    "!git init"
   ]
  },
  {
   "cell_type": "code",
   "execution_count": 6,
   "id": "b93e2385",
   "metadata": {},
   "outputs": [
    {
     "name": "stderr",
     "output_type": "stream",
     "text": [
      "Cloning into 'AIvsReal'...\n"
     ]
    }
   ],
   "source": [
    "!git clone https://huggingface.co/spaces/abhishekambast/AIvsReal\n"
   ]
  },
  {
   "cell_type": "code",
   "execution_count": 7,
   "id": "b22b3fd0",
   "metadata": {},
   "outputs": [],
   "source": [
    "!git add app.py"
   ]
  },
  {
   "cell_type": "code",
   "execution_count": 8,
   "id": "ffcaa54c",
   "metadata": {},
   "outputs": [
    {
     "name": "stdout",
     "output_type": "stream",
     "text": [
      "[master (root-commit) 2469bc4] Add application file\n",
      " 1 file changed, 46 insertions(+)\n",
      " create mode 100644 app.py\n"
     ]
    }
   ],
   "source": [
    "!git commit -m \"Add application file\""
   ]
  },
  {
   "cell_type": "code",
   "execution_count": 10,
   "id": "0e2d0b2f",
   "metadata": {},
   "outputs": [
    {
     "name": "stderr",
     "output_type": "stream",
     "text": [
      "fatal: The current branch master has no upstream branch.\n",
      "To push the current branch and set the remote as upstream, use\n",
      "\n",
      "    git push --set-upstream abhishekambast/AIvsReal master\n",
      "\n"
     ]
    }
   ],
   "source": [
    "!git push abhishekambast/AIvsReal"
   ]
  },
  {
   "cell_type": "code",
   "execution_count": 11,
   "id": "15b3e381",
   "metadata": {},
   "outputs": [
    {
     "name": "stderr",
     "output_type": "stream",
     "text": [
      "fatal: The current branch master has no upstream branch.\n",
      "To push the current branch and set the remote as upstream, use\n",
      "\n",
      "    git push --set-upstream main master\n",
      "\n"
     ]
    }
   ],
   "source": [
    "! git push main\n"
   ]
  },
  {
   "cell_type": "code",
   "execution_count": 12,
   "id": "f74c3b0e",
   "metadata": {},
   "outputs": [
    {
     "name": "stderr",
     "output_type": "stream",
     "text": [
      "fatal: The current branch master has no upstream branch.\n",
      "To push the current branch and set the remote as upstream, use\n",
      "\n",
      "    git push --set-upstream master master\n",
      "\n"
     ]
    }
   ],
   "source": [
    "! git push master\n"
   ]
  },
  {
   "cell_type": "code",
   "execution_count": 13,
   "id": "957482a9",
   "metadata": {},
   "outputs": [
    {
     "name": "stderr",
     "output_type": "stream",
     "text": [
      "fatal: No configured push destination.\n",
      "Either specify the URL from the command-line or configure a remote repository using\n",
      "\n",
      "    git remote add <name> <url>\n",
      "\n",
      "and then push using the remote name\n",
      "\n",
      "    git push <name>\n",
      "\n"
     ]
    }
   ],
   "source": [
    "!git push\n"
   ]
  },
  {
   "cell_type": "code",
   "execution_count": 25,
   "id": "02f74fa4",
   "metadata": {},
   "outputs": [
    {
     "name": "stderr",
     "output_type": "stream",
     "text": [
      "fatal: destination path 'AIvsReal' already exists and is not an empty directory.\n"
     ]
    }
   ],
   "source": [
    "!git clone https://huggingface.co/spaces/abhishekambast/AIvsReal\n"
   ]
  },
  {
   "cell_type": "code",
   "execution_count": 26,
   "id": "a311af18",
   "metadata": {},
   "outputs": [],
   "source": [
    "!git add app.py"
   ]
  },
  {
   "cell_type": "code",
   "execution_count": 27,
   "id": "d5fe8238",
   "metadata": {},
   "outputs": [
    {
     "name": "stdout",
     "output_type": "stream",
     "text": [
      "[master a091dc8] Add application file\n",
      " 1 file changed, 6 insertions(+), 5 deletions(-)\n"
     ]
    }
   ],
   "source": [
    "!git commit -m \"Add application file\""
   ]
  },
  {
   "cell_type": "code",
   "execution_count": 28,
   "id": "a691172a",
   "metadata": {},
   "outputs": [
    {
     "name": "stderr",
     "output_type": "stream",
     "text": [
      "fatal: No configured push destination.\n",
      "Either specify the URL from the command-line or configure a remote repository using\n",
      "\n",
      "    git remote add <name> <url>\n",
      "\n",
      "and then push using the remote name\n",
      "\n",
      "    git push <name>\n",
      "\n"
     ]
    }
   ],
   "source": [
    "!git push\n"
   ]
  },
  {
   "cell_type": "code",
   "execution_count": 30,
   "id": "cc6ceff5",
   "metadata": {},
   "outputs": [],
   "source": [
    " !git remote add app.py \"https://huggingface.co/spaces/abhishekambast/AIvsReal\""
   ]
  },
  {
   "cell_type": "code",
   "execution_count": 31,
   "id": "cb108786",
   "metadata": {},
   "outputs": [
    {
     "name": "stderr",
     "output_type": "stream",
     "text": [
      "fatal: The current branch master has no upstream branch.\n",
      "To push the current branch and set the remote as upstream, use\n",
      "\n",
      "    git push --set-upstream app.py master\n",
      "\n"
     ]
    }
   ],
   "source": [
    "!git push app.py"
   ]
  },
  {
   "cell_type": "code",
   "execution_count": 32,
   "id": "430c590b",
   "metadata": {},
   "outputs": [
    {
     "name": "stderr",
     "output_type": "stream",
     "text": [
      "fatal: No configured push destination.\n",
      "Either specify the URL from the command-line or configure a remote repository using\n",
      "\n",
      "    git remote add <name> <url>\n",
      "\n",
      "and then push using the remote name\n",
      "\n",
      "    git push <name>\n",
      "\n"
     ]
    }
   ],
   "source": [
    "!git push"
   ]
  },
  {
   "cell_type": "code",
   "execution_count": 9,
   "id": "f0e0cf2a",
   "metadata": {},
   "outputs": [
    {
     "ename": "SyntaxError",
     "evalue": "invalid syntax (<ipython-input-9-0bb8111d3946>, line 1)",
     "output_type": "error",
     "traceback": [
      "\u001b[1;36m  File \u001b[1;32m\"<ipython-input-9-0bb8111d3946>\"\u001b[1;36m, line \u001b[1;32m1\u001b[0m\n\u001b[1;33m    wget \"https://bin.equinox.io/c/4VmDzA7iaHb/ngrok-stable-linux-amd64.zip\"\u001b[0m\n\u001b[1;37m         ^\u001b[0m\n\u001b[1;31mSyntaxError\u001b[0m\u001b[1;31m:\u001b[0m invalid syntax\n"
     ]
    }
   ],
   "source": [
    "!wget https://bin.equinox.io/c/4VmDzA7iaHb/ngrok-stable-linux-amd64.zip"
   ]
  },
  {
   "cell_type": "code",
   "execution_count": 12,
   "id": "351557a1",
   "metadata": {},
   "outputs": [
    {
     "name": "stderr",
     "output_type": "stream",
     "text": [
      "'unzip' is not recognized as an internal or external command,\n",
      "operable program or batch file.\n"
     ]
    }
   ],
   "source": [
    "import unzip\n",
    "!unzip ngrok-stable-linux-amd64.zip"
   ]
  },
  {
   "cell_type": "code",
   "execution_count": null,
   "id": "9efb769c",
   "metadata": {},
   "outputs": [],
   "source": []
  }
 ],
 "metadata": {
  "kernelspec": {
   "display_name": "Python 3",
   "language": "python",
   "name": "python3"
  },
  "language_info": {
   "codemirror_mode": {
    "name": "ipython",
    "version": 3
   },
   "file_extension": ".py",
   "mimetype": "text/x-python",
   "name": "python",
   "nbconvert_exporter": "python",
   "pygments_lexer": "ipython3",
   "version": "3.8.8"
  },
  "widgets": {
   "application/vnd.jupyter.widget-state+json": {
    "state": {},
    "version_major": 2,
    "version_minor": 0
   }
  }
 },
 "nbformat": 4,
 "nbformat_minor": 5
}
